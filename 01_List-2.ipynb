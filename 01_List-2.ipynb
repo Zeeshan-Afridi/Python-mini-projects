{
 "cells": [
  {
   "cell_type": "code",
   "execution_count": 4,
   "metadata": {},
   "outputs": [
    {
     "name": "stdout",
     "output_type": "stream",
     "text": [
      "[2, 3, 4, 5]\n",
      "[9, 8, 7, 6]\n",
      "[2, 3, 4, 5, 9, 8, 7, 6]\n",
      "[2, 3, 4, 5, 2, 3, 4, 5]\n"
     ]
    }
   ],
   "source": [
    "List1 = [2,3,4,5]\n",
    "print(List1)\n",
    "List2 = [9,8,7,6]\n",
    "print(List2)\n",
    "\n",
    "List3 = List1+List2\n",
    "print(List3)\n",
    "\n",
    "List4 = List1 * 2\n",
    "print(List4)\n",
    "\n"
   ]
  },
  {
   "cell_type": "code",
   "execution_count": null,
   "metadata": {},
   "outputs": [
    {
     "name": "stdout",
     "output_type": "stream",
     "text": [
      "Enter No of Subjects: 3\n",
      "Enter Subject- 1  Marks : \n",
      "-90\n",
      "Enter Subject- 2  Marks : \n",
      "190\n",
      "Enter Subject- 3  Marks : \n"
     ]
    }
   ],
   "source": [
    "nos = int(input(\"Enter No of Subjects: \"))\n",
    "while nos <= 0:\n",
    "    nos = int(input(\"Enter Valid No of Sub (Only +ve) :\"))\n",
    "\n",
    "SUB = []\n",
    "marks = 0\n",
    "counter = 1;\n",
    "\n",
    "while counter <= nos:\n",
    "    print(\"Enter Subject-\", counter,\" Marks : \")\n",
    "    marks = int(input())\n",
    "    SUB = SUB + [marks]\n",
    "    counter += 1\n",
    "\n",
    "print(\"The Marks of \",nos,\" Subjects : \", SUB)"
   ]
  },
  {
   "cell_type": "code",
   "execution_count": 1,
   "metadata": {},
   "outputs": [
    {
     "name": "stdout",
     "output_type": "stream",
     "text": [
      "[]\n",
      "Enter integer (-1 quits): 3\n",
      "[3]\n",
      "Enter integer (-1 quits): 2\n",
      "[3, 2]\n",
      "Enter integer (-1 quits): 4\n",
      "[3, 2, 4]\n",
      "Enter integer (-1 quits): -1\n",
      "[3, 2, 4]\n"
     ]
    }
   ],
   "source": [
    "# Build a custom list of nonnegative integers specified by the user\n",
    "# Builds a list from input provided by the user.\n",
    "def make_list():\n",
    "    result = []     # List to return is initially empty\n",
    "    in_val = 0      # Ensure loop is entered at least once\n",
    "    while in_val >= 0:\n",
    "        print(result)\n",
    "        in_val = int(input(\"Enter integer (-1 quits): \"))\n",
    "        if in_val >= 0:\n",
    "            result += [in_val] # Add item to list\n",
    "    return result\n",
    "\n",
    "def main():\n",
    "    myList = make_list()\n",
    "    print(myList)\n",
    "    \n",
    "main()"
   ]
  },
  {
   "cell_type": "code",
   "execution_count": 2,
   "metadata": {},
   "outputs": [
    {
     "name": "stdout",
     "output_type": "stream",
     "text": [
      "Enter Valid No of Subjects(+ve No Only) : 2\n",
      "Enter Subject- 1  Marks : 3\n",
      "Enter Subject- 2  Marks : 4\n",
      "Enter Subject- 3  Marks : 5\n",
      "Your marks list :  [3, 4, 5]\n"
     ]
    }
   ],
   "source": [
    "nos = 0\n",
    "while(nos <=0):\n",
    "    nos = int(input(\"Enter Valid No of Subjects(+ve No Only) : \"))\n",
    "\n",
    "Marks = []\n",
    "count = 0\n",
    "points = 0\n",
    "while(count <= nos):\n",
    "    print(\"Enter Subject-\",count+1,\" Marks : \", end='')\n",
    "    points = int(input())\n",
    "    if points < 0:\n",
    "        print(\"Invalid Marks : \")\n",
    "        continue\n",
    "    \n",
    "    count +=1\n",
    "    Marks +=[points]\n",
    "\n",
    "print(\"Your marks list : \", Marks)"
   ]
  },
  {
   "cell_type": "markdown",
   "metadata": {},
   "source": [
    "# Built-in Function for Lists"
   ]
  },
  {
   "cell_type": "code",
   "execution_count": 8,
   "metadata": {},
   "outputs": [
    {
     "name": "stdout",
     "output_type": "stream",
     "text": [
      "Length of List :  4\n",
      "Sum of Elements :  10\n",
      "Min of List :  1\n",
      "Min of List :  4\n",
      "The Average of the List :  2.5\n"
     ]
    },
    {
     "ename": "TypeError",
     "evalue": "unsupported operand type(s) for +: 'int' and 'str'",
     "output_type": "error",
     "traceback": [
      "\u001b[1;31m---------------------------------------------------------------------------\u001b[0m",
      "\u001b[1;31mTypeError\u001b[0m                                 Traceback (most recent call last)",
      "\u001b[1;32m<ipython-input-8-629d3bd34d9a>\u001b[0m in \u001b[0;36m<module>\u001b[1;34m()\u001b[0m\n\u001b[0;32m     18\u001b[0m \u001b[1;33m\u001b[0m\u001b[0m\n\u001b[0;32m     19\u001b[0m \u001b[0marray\u001b[0m \u001b[1;33m=\u001b[0m \u001b[1;33m{\u001b[0m\u001b[1;36m2\u001b[0m\u001b[1;33m,\u001b[0m \u001b[1;34m'ALI'\u001b[0m\u001b[1;33m,\u001b[0m \u001b[1;36m3\u001b[0m\u001b[1;33m,\u001b[0m \u001b[1;34m'KHAN'\u001b[0m\u001b[1;33m}\u001b[0m\u001b[1;33m\u001b[0m\u001b[0m\n\u001b[1;32m---> 20\u001b[1;33m \u001b[0mprint\u001b[0m\u001b[1;33m(\u001b[0m\u001b[0msum\u001b[0m\u001b[1;33m(\u001b[0m\u001b[0marray\u001b[0m\u001b[1;33m)\u001b[0m\u001b[1;33m)\u001b[0m\u001b[1;33m\u001b[0m\u001b[0m\n\u001b[0m",
      "\u001b[1;31mTypeError\u001b[0m: unsupported operand type(s) for +: 'int' and 'str'"
     ]
    }
   ],
   "source": [
    "List = [1,2,3,4]\n",
    "# len() function returns the length of the list\n",
    "print(\"Length of List : \", len(List))\n",
    "\n",
    "# sum() function returns the sum of the elements of the list\n",
    "print(\"Sum of Elements : \", sum(List))\n",
    "\n",
    "# min() function returns the minimum of the list\n",
    "print(\"Min of List : \", min(List))\n",
    "\n",
    "# max() function returns the minimum of the list\n",
    "print(\"Min of List : \", max(List))\n",
    "\n",
    "# find the average of the bove list elements in one statement\n",
    "\n",
    "avg = sum(List)/len(List)\n",
    "print(\"The Average of the List : \", avg)\n",
    "\n",
    "#array = {2, 'ALI', 3, 'KHAN'}\n",
    "#print(sum(array))"
   ]
  },
  {
   "cell_type": "markdown",
   "metadata": {},
   "source": [
    "# Some Other Methods"
   ]
  },
  {
   "cell_type": "code",
   "execution_count": 10,
   "metadata": {},
   "outputs": [
    {
     "name": "stdout",
     "output_type": "stream",
     "text": [
      "myList original :  [10, 23, 34, 23, 78, 33]\n",
      "count of :  0\n",
      "index of :  1\n",
      "myList after appending :  [10, 23, 34, 23, 78, 33, 993]\n",
      "myList after inserting :  [10, 23, 34, 77, 23, 78, 33, 993]\n",
      "poped value from index  23\n",
      "myList after poping :  [10, 34, 77, 23, 78, 33, 993]\n",
      "myList after reverseing :  [993, 33, 78, 23, 77, 34, 10]\n",
      "myList after sorting :  [10, 23, 33, 34, 77, 78, 993]\n"
     ]
    }
   ],
   "source": [
    "myList = [10, 23, 34, 23, 78, 33]\n",
    "print(\"myList original : \", myList)\n",
    "\n",
    "print(\"count of : \", myList.count(333))\n",
    "\n",
    "print(\"index of : \", myList.index(23))\n",
    "\n",
    "myList.append(993)\n",
    "print(\"myList after appending : \", myList)\n",
    "\n",
    "myList.insert(3,77)\n",
    "print(\"myList after inserting : \", myList)\n",
    "\n",
    "#myList.remove(34)\n",
    "#print(\"myList after removal : \", myList)\n",
    "\n",
    "print(\"poped value from index \", myList.pop(1))\n",
    "print(\"myList after poping : \", myList)\n",
    "\n",
    "myList.reverse()\n",
    "print(\"myList after reverseing : \", myList)\n",
    "\n",
    "myList.sort()\n",
    "print(\"myList after sorting : \", myList)"
   ]
  },
  {
   "cell_type": "code",
   "execution_count": 7,
   "metadata": {},
   "outputs": [
    {
     "name": "stdout",
     "output_type": "stream",
     "text": [
      "Enter name : a\n",
      "BSSE in  1  Iteration :  ['a']\n",
      "Enter name : b\n",
      "BSSE in  2  Iteration :  ['a', 'b']\n",
      "Enter name : c\n",
      "BSSE in  3  Iteration :  ['a', 'b', 'c']\n",
      "Enter name : d\n",
      "BSSE in  4  Iteration :  ['a', 'b', 'c', 'd']\n",
      "List After insertion :  ['a', 'b', 'KAMRAN', 'c', 'd']\n",
      "List after removal :  ['a', 'b', 'KAMRAN', 'c']\n",
      "List after POP :  ['a', 'KAMRAN', 'c']\n"
     ]
    }
   ],
   "source": [
    "BSSE = []\n",
    "name = ''\n",
    "for i in range(4):\n",
    "    name = input(\"Enter name : \")\n",
    "    BSSE.append(name)\n",
    "    print(\"BSSE in \",i+1,\" Iteration : \", BSSE)\n",
    "\n",
    "BSSE.insert(2,'KAMRAN')\n",
    "print(\"List After insertion : \", BSSE)\n",
    "\n",
    "BSSE.remove(\"d\")\n",
    "print(\"List after removal : \", BSSE)\n",
    "BSSE.pop(1)\n",
    "print(\"List after POP : \", BSSE)"
   ]
  },
  {
   "cell_type": "code",
   "execution_count": 2,
   "metadata": {},
   "outputs": [
    {
     "name": "stdout",
     "output_type": "stream",
     "text": [
      "L1 + L2 =  [1, 3, 5, 7, 2, 4, 6, 8]\n",
      "L1 * 2 =  [1, 3, 5, 7, 1, 3, 5, 7]\n"
     ]
    }
   ],
   "source": [
    "# + and * operators work also with Lists\n",
    "L1 = [1,3,5,7]\n",
    "L2 = [2,4,6,8]\n",
    "\n",
    "\n",
    "print(\"L1 + L2 = \", L1+L2)  # + operator Concatinate the two Lists in one\n",
    "print(\"L1 * 2 = \", L1*2)\n"
   ]
  }
 ],
 "metadata": {
  "kernelspec": {
   "display_name": "Python 3",
   "language": "python",
   "name": "python3"
  },
  "language_info": {
   "codemirror_mode": {
    "name": "ipython",
    "version": 3
   },
   "file_extension": ".py",
   "mimetype": "text/x-python",
   "name": "python",
   "nbconvert_exporter": "python",
   "pygments_lexer": "ipython3",
   "version": "3.6.5"
  }
 },
 "nbformat": 4,
 "nbformat_minor": 2
}
