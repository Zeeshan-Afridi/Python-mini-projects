{
 "cells": [
  {
   "cell_type": "markdown",
   "metadata": {},
   "source": [
    "# Boolean Expressions"
   ]
  },
  {
   "cell_type": "markdown",
   "metadata": {},
   "source": [
    "An expression that is either True or False is called Boolean expression. In boolean expressions usually relational or comparison operators are used."
   ]
  },
  {
   "cell_type": "code",
   "execution_count": 2,
   "metadata": {},
   "outputs": [
    {
     "name": "stdout",
     "output_type": "stream",
     "text": [
      "True\n",
      "False\n",
      "<class 'bool'>\n",
      "<class 'bool'>\n",
      "<class 'bool'>\n",
      "<class 'bool'>\n"
     ]
    }
   ],
   "source": [
    "print(5 == 5)\n",
    "print(6 == 5)\n",
    "print(type(5 == 5))\n",
    "print(type(5 == 6))\n",
    "print(type(True))\n",
    "print(type(False))"
   ]
  },
  {
   "cell_type": "markdown",
   "metadata": {},
   "source": [
    "The == is one of the comparison operators (relational operator), other are"
   ]
  },
  {
   "cell_type": "code",
   "execution_count": 3,
   "metadata": {},
   "outputs": [
    {
     "name": "stdout",
     "output_type": "stream",
     "text": [
      "x == y :  False\n",
      "x != y :  True\n",
      "x < y  :  True\n",
      "x > y  :  False\n",
      "x <= y :  True\n",
      "x >= y :  False\n",
      "x < y  :  True\n"
     ]
    }
   ],
   "source": [
    "x = 10\n",
    "y = 20\n",
    "print(\"x == y : \",x == y)\n",
    "print(\"x != y : \",x != y)\n",
    "print(\"x < y  : \",x < y)\n",
    "print(\"x > y  : \",x > y)\n",
    "print(\"x <= y : \",x <= y)\n",
    "print(\"x >= y : \",x >= y)\n",
    "print(\"x < y  : \",x < y)\n"
   ]
  },
  {
   "cell_type": "markdown",
   "metadata": {},
   "source": [
    "The relational operators are binary operators and are all left associative. \n",
    "They all have a lower precedence than any of the arithmetic operators; \n",
    "therefore, Python evaluates the arithmetic expression first."
   ]
  },
  {
   "cell_type": "code",
   "execution_count": 12,
   "metadata": {},
   "outputs": [
    {
     "name": "stdout",
     "output_type": "stream",
     "text": [
      "False\n",
      "False\n"
     ]
    }
   ],
   "source": [
    "\n",
    "print(x + 2 < y / 10)\n",
    "print((x + 2) < (y / 10))"
   ]
  },
  {
   "cell_type": "markdown",
   "metadata": {},
   "source": [
    "Example: Take Input and Compare"
   ]
  },
  {
   "cell_type": "code",
   "execution_count": 15,
   "metadata": {},
   "outputs": [
    {
     "name": "stdout",
     "output_type": "stream",
     "text": [
      "What is your Name ? ali\n",
      "What is your Name ? ali\n",
      "Both Names are same :  True\n",
      "Enter Age of Student_1, : 121\n",
      "Enter Age of Student_2, : 12\n",
      "Bothe Ages are same :  False\n"
     ]
    }
   ],
   "source": [
    "Student_1 = input(\"What is your Name ? \")\n",
    "Student_2 = input(\"What is your Name ? \")\n",
    "print(\"Both Names are same : \", Student_1 == Student_2)\n",
    "Age1 = int(input(\"Enter Age of Student_1, : \"))\n",
    "Age2 = int(input(\"Enter Age of Student_2, : \"))\n",
    "print(\"Bothe Ages are same : \", Age1 == Age2)"
   ]
  },
  {
   "cell_type": "code",
   "execution_count": 9,
   "metadata": {},
   "outputs": [
    {
     "name": "stdout",
     "output_type": "stream",
     "text": [
      "True\n",
      "False\n",
      "True\n",
      "True\n"
     ]
    }
   ],
   "source": [
    "print(True or (False and False) or False)\n",
    "print((True or False) and False or False)\n",
    "print(True or False and (False or False))\n",
    "print(3 + 4 == 7)\n"
   ]
  },
  {
   "cell_type": "code",
   "execution_count": 20,
   "metadata": {},
   "outputs": [
    {
     "name": "stdout",
     "output_type": "stream",
     "text": [
      "True\n",
      "True\n",
      "False\n",
      "0\n"
     ]
    }
   ],
   "source": [
    "x = 10\n",
    "print(x>0 and x<11)\n",
    "\n",
    "print(x%2==0 or x%3==0)\n",
    "\n",
    "print(not(x>9))\n",
    "\n",
    "#By rule the operands of a logical operator should be a boolean expression, but any non zeor number is treated as\n",
    "#True by python, so the following can be evaluated without an error\n",
    "\n",
    "print(0 and True)"
   ]
  },
  {
   "cell_type": "markdown",
   "metadata": {},
   "source": [
    "Logical Operators, \"and\", \"or\" and \"not\""
   ]
  },
  {
   "cell_type": "code",
   "execution_count": 21,
   "metadata": {},
   "outputs": [
    {
     "name": "stdout",
     "output_type": "stream",
     "text": [
      "True\n",
      "True\n",
      "False\n",
      "False\n"
     ]
    }
   ],
   "source": [
    "n = 5\n",
    "x=10\n",
    "print(n < 10)\n",
    "print(10 > n)\n",
    "print(not(x >= 10))\n",
    "print(not(10 <= x))"
   ]
  },
  {
   "cell_type": "markdown",
   "metadata": {},
   "source": [
    "# Conditional Execution"
   ]
  },
  {
   "cell_type": "markdown",
   "metadata": {},
   "source": [
    "To write useful programs, we need to check differnt conditions and change the behaviour of the program\n",
    "The simplest for of conditional exection is the if statement"
   ]
  },
  {
   "cell_type": "code",
   "execution_count": 38,
   "metadata": {},
   "outputs": [
    {
     "name": "stdout",
     "output_type": "stream",
     "text": [
      "Starting Program....\n",
      "Ending Program....\n"
     ]
    }
   ],
   "source": [
    "n = 0\n",
    "print(\"Starting Program....\")\n",
    "if n > 0:\n",
    "    print(\"n is greather than ZERO\")\n",
    "\n",
    "print(\"Ending Program....\")"
   ]
  },
  {
   "cell_type": "markdown",
   "metadata": {},
   "source": [
    "Example: Input Student Marks, and identify that student is pass or not?"
   ]
  },
  {
   "cell_type": "code",
   "execution_count": 4,
   "metadata": {},
   "outputs": [
    {
     "name": "stdout",
     "output_type": "stream",
     "text": [
      "Enter Your Marks in Programming : 40\n",
      "\n",
      "\n",
      "Bye!\n"
     ]
    }
   ],
   "source": [
    "Marks = int(input(\"Enter Your Marks in Programming : \"))\n",
    "if Marks >= 60:\n",
    "    print(\"\\n\\nCongratulations! You Passed the Subject....\")\n",
    "print(\"\\n\\nBye!\")"
   ]
  },
  {
   "cell_type": "code",
   "execution_count": 6,
   "metadata": {},
   "outputs": [
    {
     "name": "stdout",
     "output_type": "stream",
     "text": [
      "Enter Your Marks in Programming : 50\n",
      "\n",
      "\n",
      "You Have Failed the Course, Try again\n",
      "\n",
      "\n",
      "Bye!\n"
     ]
    }
   ],
   "source": [
    "Marks = int(input(\"Enter Your Marks in Programming : \"))\n",
    "if Marks >= 60:\n",
    "    print(\"\\n\\nCongratulations! You Passed the Subject....\")\n",
    "else:\n",
    "    print(\"\\n\\nYou Have Failed the Course, Try again\")\n",
    "print(\"\\n\\nBye!\")"
   ]
  }
 ],
 "metadata": {
  "kernelspec": {
   "display_name": "Python 3",
   "language": "python",
   "name": "python3"
  },
  "language_info": {
   "codemirror_mode": {
    "name": "ipython",
    "version": 3
   },
   "file_extension": ".py",
   "mimetype": "text/x-python",
   "name": "python",
   "nbconvert_exporter": "python",
   "pygments_lexer": "ipython3",
   "version": "3.6.5"
  }
 },
 "nbformat": 4,
 "nbformat_minor": 2
}
