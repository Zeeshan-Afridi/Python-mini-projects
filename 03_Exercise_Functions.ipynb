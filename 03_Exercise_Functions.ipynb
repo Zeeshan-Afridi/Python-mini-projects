{
 "cells": [
  {
   "cell_type": "markdown",
   "metadata": {},
   "source": [
    "# 1. Write a function with name ComputSalary(), that take input for basic salary, no of hours for overtime and rate per hour. Then calculate the total home take salary. Call your function from the main programe twice for 2 employees."
   ]
  },
  {
   "cell_type": "code",
   "execution_count": 4,
   "metadata": {},
   "outputs": [
    {
     "name": "stdout",
     "output_type": "stream",
     "text": [
      "**************************************\n",
      "* Salaray Calculation for Employee-1 *\n",
      "**************************************\n",
      "Enter Basic Salary : 89\n",
      "Enter Overtime in Hours : 77\n",
      "Enter Rate per hour : 44\n",
      "Your Home Take Salary :  3477.0\n",
      "\n",
      "\n",
      "**************************************\n",
      "* Salaray Calculation for Employee-2 *\n",
      "**************************************\n",
      "Enter Basic Salary : 88\n",
      "Enter Overtime in Hours : 99\n",
      "Enter Rate per hour : 9\n",
      "Your Home Take Salary :  979.0\n"
     ]
    }
   ],
   "source": [
    "def ComputSalary():\n",
    "    basic = float(input(\"Enter Basic Salary : \"))\n",
    "    hours = float(input(\"Enter Overtime in Hours : \"))\n",
    "    rate = float(input(\"Enter Rate per hour : \"))\n",
    "    \n",
    "    totalSal = basic + (hours * rate)\n",
    "    print(\"Your Home Take Salary : \", totalSal)\n",
    "    \n",
    "print(\"**************************************\")\n",
    "print(\"* Salaray Calculation for Employee-1 *\")\n",
    "print(\"**************************************\")\n",
    "ComputSalary()\n",
    "print(\"\\n\\n**************************************\")\n",
    "print(\"* Salaray Calculation for Employee-2 *\")\n",
    "print(\"**************************************\")\n",
    "ComputSalary()"
   ]
  },
  {
   "cell_type": "code",
   "execution_count": null,
   "metadata": {},
   "outputs": [
    {
     "name": "stdout",
     "output_type": "stream",
     "text": [
      "Enter first point's x :1\n"
     ]
    }
   ],
   "source": [
    "def midpoint(pt1, pt2):\n",
    "    x1, y1 = pt1\n",
    "    x2, y2 = pt2\n",
    "    return (x1 + x2)/2, (y1 + y2)/2\n",
    "\n",
    "point1 = float(input(\"Enter first point's x :\")), float(input(\"Enter first point's y:\"))\n",
    "point2 = float(input(\"Enter second point's x :\")),float(input(\"Enter second point's y:\"))\n",
    "\n",
    "mid = midpoint(point1, point2)\n",
    "print(\"Mid Point of\", point1, \"and \", point2, \" = \", mid)"
   ]
  },
  {
   "cell_type": "code",
   "execution_count": 1,
   "metadata": {},
   "outputs": [
    {
     "name": "stdout",
     "output_type": "stream",
     "text": [
      "Enter First Number : 3\n",
      "Enter Second Number : 4\n",
      "Enter Third Number : 5\n"
     ]
    },
    {
     "ename": "TypeError",
     "evalue": "Add() missing 1 required positional argument: 'c'",
     "output_type": "error",
     "traceback": [
      "\u001b[1;31m---------------------------------------------------------------------------\u001b[0m",
      "\u001b[1;31mTypeError\u001b[0m                                 Traceback (most recent call last)",
      "\u001b[1;32m<ipython-input-1-fa5ddf625cba>\u001b[0m in \u001b[0;36m<module>\u001b[1;34m()\u001b[0m\n\u001b[0;32m     10\u001b[0m \u001b[0mn3\u001b[0m \u001b[1;33m=\u001b[0m \u001b[0mint\u001b[0m\u001b[1;33m(\u001b[0m\u001b[0minput\u001b[0m\u001b[1;33m(\u001b[0m\u001b[1;34m\"Enter Third Number : \"\u001b[0m\u001b[1;33m)\u001b[0m\u001b[1;33m)\u001b[0m\u001b[1;33m\u001b[0m\u001b[0m\n\u001b[0;32m     11\u001b[0m \u001b[1;33m\u001b[0m\u001b[0m\n\u001b[1;32m---> 12\u001b[1;33m \u001b[0mprint\u001b[0m\u001b[1;33m(\u001b[0m\u001b[1;34m\"Sum = \"\u001b[0m\u001b[1;33m,\u001b[0m \u001b[0mAdd\u001b[0m\u001b[1;33m(\u001b[0m\u001b[0mn1\u001b[0m\u001b[1;33m,\u001b[0m\u001b[0mn2\u001b[0m\u001b[1;33m)\u001b[0m\u001b[1;33m)\u001b[0m\u001b[1;33m\u001b[0m\u001b[0m\n\u001b[0m\u001b[0;32m     13\u001b[0m \u001b[0mprint\u001b[0m\u001b[1;33m(\u001b[0m\u001b[1;34m\"Sum = \"\u001b[0m\u001b[1;33m,\u001b[0m \u001b[0mAdd\u001b[0m\u001b[1;33m(\u001b[0m\u001b[0mn1\u001b[0m\u001b[1;33m,\u001b[0m\u001b[0mn2\u001b[0m\u001b[1;33m,\u001b[0m\u001b[0mn3\u001b[0m\u001b[1;33m)\u001b[0m\u001b[1;33m)\u001b[0m\u001b[1;33m\u001b[0m\u001b[0m\n",
      "\u001b[1;31mTypeError\u001b[0m: Add() missing 1 required positional argument: 'c'"
     ]
    }
   ],
   "source": [
    "def Add(a,b):\n",
    "    sum = a + b\n",
    "    return sum\n",
    "\n",
    "\n",
    "def Add(a,b,c):\n",
    "    sum = a + b + c\n",
    "    return sum\n",
    "\n",
    "n1 = int(input(\"Enter First Number : \"))\n",
    "n2 = int(input(\"Enter Second Number : \"))\n",
    "n3 = int(input(\"Enter Third Number : \"))\n",
    "\n",
    "print(\"Sum = \", Add(n1,n2))\n",
    "print(\"Sum = \", Add(n1,n2,n3))"
   ]
  },
  {
   "cell_type": "code",
   "execution_count": 6,
   "metadata": {},
   "outputs": [
    {
     "name": "stdout",
     "output_type": "stream",
     "text": [
      "Enter First Number : 7\n",
      "Enter Second Number : 9\n"
     ]
    },
    {
     "ename": "TypeError",
     "evalue": "Add() missing 1 required positional argument: 'c'",
     "output_type": "error",
     "traceback": [
      "\u001b[1;31m---------------------------------------------------------------------------\u001b[0m",
      "\u001b[1;31mTypeError\u001b[0m                                 Traceback (most recent call last)",
      "\u001b[1;32m<ipython-input-6-55c6bea4cbca>\u001b[0m in \u001b[0;36m<module>\u001b[1;34m()\u001b[0m\n\u001b[0;32m      7\u001b[0m \u001b[1;31m#n3 = int(input(\"Enter Third Number : \"))\u001b[0m\u001b[1;33m\u001b[0m\u001b[1;33m\u001b[0m\u001b[0m\n\u001b[0;32m      8\u001b[0m \u001b[1;33m\u001b[0m\u001b[0m\n\u001b[1;32m----> 9\u001b[1;33m \u001b[0mprint\u001b[0m\u001b[1;33m(\u001b[0m\u001b[1;34m\"Sum = \"\u001b[0m\u001b[1;33m,\u001b[0m \u001b[0mAdd\u001b[0m\u001b[1;33m(\u001b[0m\u001b[0mn1\u001b[0m\u001b[1;33m,\u001b[0m\u001b[0mn2\u001b[0m\u001b[1;33m)\u001b[0m\u001b[1;33m)\u001b[0m\u001b[1;33m\u001b[0m\u001b[0m\n\u001b[0m",
      "\u001b[1;31mTypeError\u001b[0m: Add() missing 1 required positional argument: 'c'"
     ]
    }
   ],
   "source": [
    "def Add(a,b,c=8):\n",
    "    sum = a + b + c\n",
    "    return sum\n",
    "\n",
    "n1 = int(input(\"Enter First Number : \"))\n",
    "n2 = int(input(\"Enter Second Number : \"))\n",
    "#n3 = int(input(\"Enter Third Number : \"))\n",
    "\n",
    "print(\"Sum = \", Add(n1,n2))"
   ]
  },
  {
   "cell_type": "code",
   "execution_count": null,
   "metadata": {},
   "outputs": [],
   "source": [
    "def fact(n):\n",
    "    if(n == 1):\n",
    "        return 1\n",
    "    else:\n",
    "        return n*fact(n-1)\n",
    "    \n",
    "num = int(input(\"Enter a Number : \"))\n",
    "print(\"The Factorial of \", num , \" is : \", fact(num))\n",
    "    "
   ]
  }
 ],
 "metadata": {
  "kernelspec": {
   "display_name": "Python 3",
   "language": "python",
   "name": "python3"
  },
  "language_info": {
   "codemirror_mode": {
    "name": "ipython",
    "version": 3
   },
   "file_extension": ".py",
   "mimetype": "text/x-python",
   "name": "python",
   "nbconvert_exporter": "python",
   "pygments_lexer": "ipython3",
   "version": "3.6.5"
  }
 },
 "nbformat": 4,
 "nbformat_minor": 2
}
