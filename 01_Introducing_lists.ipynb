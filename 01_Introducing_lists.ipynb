{
 "cells": [
  {
   "cell_type": "markdown",
   "metadata": {},
   "source": [
    "# Python Lists"
   ]
  },
  {
   "cell_type": "markdown",
   "metadata": {},
   "source": [
    "* Variable can store/refer to only one value\n",
    "* If we need 30 scores from a user and do something with them, we will need 30 different variables\n",
    "* if the numbers of values increased, the process become tedious \n",
    "* Here python provide a mechanisim which rescue the programmer in such situation\n",
    "* The Solution is the LIST\n",
    "\n"
   ]
  },
  {
   "cell_type": "code",
   "execution_count": 2,
   "metadata": {},
   "outputs": [
    {
     "name": "stdout",
     "output_type": "stream",
     "text": [
      "The List Elements are  [56, 67, 43, 58, 39, 90, 67]\n"
     ]
    }
   ],
   "source": [
    "#Basics of List\n",
    "#A list is an object that holds a collection of objects i-e sequence of data like a string\n",
    "#Like other variable, list variable can be local or global and must be defined before use it\n",
    "\n",
    "#The following line defined a list with name Scores\n",
    "Scores = [56,67,43,58,39,90,67]\n",
    "\n",
    "# Printing the whole list\n",
    "print(\"The List Elements are \",Scores)"
   ]
  },
  {
   "cell_type": "code",
   "execution_count": 17,
   "metadata": {},
   "outputs": [
    {
     "name": "stdout",
     "output_type": "stream",
     "text": [
      "Element at position 0 :  39\n",
      "Element at position 2 :  58\n",
      "Element at position 4 :  43\n",
      "Element at position 4 :  67\n",
      "Element at position 4 :  56\n"
     ]
    }
   ],
   "source": [
    "#List element can also be accessed with their positions (index) in the List\n",
    "Scores = [56,67,43,58,39]\n",
    "print(\"Element at position 0 : \", Scores[-1])\n",
    "print(\"Element at position 2 : \", Scores[-2])\n",
    "print(\"Element at position 4 : \", Scores[-3])\n",
    "print(\"Element at position 4 : \", Scores[-4])\n",
    "print(\"Element at position 4 : \", Scores[-5])\n",
    "\n"
   ]
  },
  {
   "cell_type": "code",
   "execution_count": 9,
   "metadata": {},
   "outputs": [
    {
     "name": "stdout",
     "output_type": "stream",
     "text": [
      "Element with -1 :  39\n",
      "Element with -2 :  58\n",
      "Element with -5 :  56\n"
     ]
    }
   ],
   "source": [
    "# List Elements can also be accessed with -ve index\n",
    "print(\"Element with -1 : \", Scores[-1])\n",
    "print(\"Element with -2 : \", Scores[-2])\n",
    "print(\"Element with -5 : \", Scores[-5])"
   ]
  },
  {
   "cell_type": "code",
   "execution_count": 19,
   "metadata": {},
   "outputs": [
    {
     "ename": "IndexError",
     "evalue": "list index out of range",
     "output_type": "error",
     "traceback": [
      "\u001b[1;31m---------------------------------------------------------------------------\u001b[0m",
      "\u001b[1;31mIndexError\u001b[0m                                Traceback (most recent call last)",
      "\u001b[1;32m<ipython-input-19-8089b7b60222>\u001b[0m in \u001b[0;36m<module>\u001b[1;34m()\u001b[0m\n\u001b[0;32m      1\u001b[0m \u001b[1;31m# Accessing Element beyond the range will produce an Error (out of range)\u001b[0m\u001b[1;33m\u001b[0m\u001b[1;33m\u001b[0m\u001b[0m\n\u001b[0;32m      2\u001b[0m \u001b[0mScores\u001b[0m \u001b[1;33m=\u001b[0m \u001b[1;33m[\u001b[0m\u001b[1;36m56\u001b[0m\u001b[1;33m,\u001b[0m\u001b[1;36m67\u001b[0m\u001b[1;33m,\u001b[0m\u001b[1;36m43\u001b[0m\u001b[1;33m,\u001b[0m\u001b[1;36m58\u001b[0m\u001b[1;33m,\u001b[0m\u001b[1;36m39\u001b[0m\u001b[1;33m]\u001b[0m\u001b[1;33m\u001b[0m\u001b[0m\n\u001b[1;32m----> 3\u001b[1;33m \u001b[0mprint\u001b[0m\u001b[1;33m(\u001b[0m\u001b[1;34m\"Element with index 5 : \"\u001b[0m\u001b[1;33m,\u001b[0m \u001b[0mScores\u001b[0m\u001b[1;33m[\u001b[0m\u001b[1;36m5\u001b[0m\u001b[1;33m]\u001b[0m\u001b[1;33m)\u001b[0m\u001b[1;33m\u001b[0m\u001b[0m\n\u001b[0m\u001b[0;32m      4\u001b[0m \u001b[0mprint\u001b[0m\u001b[1;33m(\u001b[0m\u001b[1;34m\"Element with index -6 : \"\u001b[0m\u001b[1;33m,\u001b[0m \u001b[0mScores\u001b[0m\u001b[1;33m[\u001b[0m\u001b[1;33m-\u001b[0m\u001b[1;36m6\u001b[0m\u001b[1;33m]\u001b[0m\u001b[1;33m)\u001b[0m\u001b[1;33m\u001b[0m\u001b[0m\n",
      "\u001b[1;31mIndexError\u001b[0m: list index out of range"
     ]
    }
   ],
   "source": [
    "# Accessing Element beyond the range will produce an Error (out of range)\n",
    "Scores = [56,67,43,58,39]\n",
    "#print(\"Element with index 5 : \", Scores[5])\n",
    "print(\"Element with index -6 : \", Scores[-6])"
   ]
  },
  {
   "cell_type": "code",
   "execution_count": 21,
   "metadata": {},
   "outputs": [
    {
     "name": "stdout",
     "output_type": "stream",
     "text": [
      "Name\tMarks\tGPA\n",
      "Ali \t 90 \t 4.0\n",
      "Shahid \t 60 \t 2.0\n",
      "Kaleem \t 70 \t 2.5\n",
      "Sidra \t 80 \t 3.5\n"
     ]
    }
   ],
   "source": [
    "# We can creae tlist of Any valid Type  \n",
    "Names = ['Ali', 'Shahid', 'Kaleem', 'Sidra']  # List of Strings\n",
    "Marks = [90, 60, 70, 80]       # List of Integers\n",
    "GPA = [4.0, 2.0, 2.5, 3.5]     # List of floats\n",
    "\n",
    "print(\"Name\\tMarks\\tGPA\")\n",
    "for i in range(4):\n",
    "    print(Names[i],\"\\t\",Marks[i],\"\\t\",GPA[i])"
   ]
  },
  {
   "cell_type": "code",
   "execution_count": 22,
   "metadata": {},
   "outputs": [
    {
     "name": "stdout",
     "output_type": "stream",
     "text": [
      "Name\tMarks\tGPA\n",
      "====================\n",
      "Ali \t 90 \t 4.0\n",
      "Shahid \t 60 \t 2.0\n",
      "Kaleem \t 70 \t 2.5\n",
      "Sidra \t 80 \t 3.5\n"
     ]
    }
   ],
   "source": [
    "# We can process the list with the help of a Loop\n",
    "print(\"Name\\tMarks\\tGPA\")\n",
    "print(\"====================\")\n",
    "for i in range(4):\n",
    "    print(Names[i],\"\\t\",Marks[i],\"\\t\",GPA[i])"
   ]
  },
  {
   "cell_type": "code",
   "execution_count": 29,
   "metadata": {},
   "outputs": [
    {
     "name": "stdout",
     "output_type": "stream",
     "text": [
      "Name\tMarks\tGPA\n",
      "====================\n",
      "Ali \t 90 \t 4.0\n",
      "Shah \t 60 \t 2.0\n",
      "Zia \t 70 \t 2.5\n",
      "Sidra \t 80 \t 3.5\n"
     ]
    }
   ],
   "source": [
    "# A List can be Hetrogeneous\n",
    "#StData = ['Ali', 90, 'Shahid',60, 'Kaleem',70, 'Sidra', 80]\n",
    "#print(\"Student Data : \", StData)\n",
    "#StData = ['Ali', 90, 4.0, 'Shah', 60, 2.0, 'Zia', 70, 2.5, 'Sidra', 80, 3.5]\n",
    "StData = ['Ali','Shah','Zia','Sidra',90,60,70,80,4.0,2.0,2.5,3.5]\n",
    "#print(\"Student Data : \", StData)\n",
    "count = 0\n",
    "print(\"Name\\tMarks\\tGPA\")\n",
    "print(\"====================\")\n",
    "for i in range(4):\n",
    "    print(StData[i],\"\\t\",StData[i+4],\"\\t\",StData[i+4+4])\n",
    "    \n",
    "    \n",
    "    \n",
    "    #[90,60,70,80,4.0,2.0,2.5,3.5, 'Ali','Shah','Zia','Sidra']"
   ]
  },
  {
   "cell_type": "code",
   "execution_count": 9,
   "metadata": {},
   "outputs": [
    {
     "name": "stdout",
     "output_type": "stream",
     "text": [
      "How Many Element in List ? 2\n",
      "Enter Element at [ 0 ] : \n",
      "3\n",
      "Enter Element at [ 1 ] : \n",
      "4\n",
      "[3, 4]\n"
     ]
    }
   ],
   "source": [
    "# Taking input in a List\n",
    "num = int(input(\"How Many Element in List ? \"))\n",
    "myList = [0]* num\n",
    "\n",
    "for i in range(num):\n",
    "    print(\"Enter Element at [\",i,\"] : \")\n",
    "    myList[i] = int(input())\n",
    "\n",
    "print(myList)\n"
   ]
  },
  {
   "cell_type": "code",
   "execution_count": 34,
   "metadata": {},
   "outputs": [
    {
     "name": "stdout",
     "output_type": "stream",
     "text": [
      "How Many Element do you need : 6\n",
      "Enter a Number : 1\n",
      "Enter a Number : 2\n",
      "Enter a Number : 3\n",
      "Enter a Number : 4\n",
      "Enter a Number : 5\n",
      "Enter a Number : 6\n",
      "[1, 2, 3, 4, 5, 6]\n"
     ]
    }
   ],
   "source": [
    "myList = []\n",
    "\n",
    "num = int(input(\"How Many Element do you need : \"))\n",
    "val = 0\n",
    "for i in range(num):\n",
    "    val = int(input(\"Enter a Number : \"))\n",
    "    myList.append(val)\n",
    "    #print(myList)\n",
    "    \n",
    "\n",
    "print(myList)"
   ]
  },
  {
   "cell_type": "markdown",
   "metadata": {},
   "source": [
    "# Similarity with String"
   ]
  },
  {
   "cell_type": "code",
   "execution_count": 36,
   "metadata": {},
   "outputs": [
    {
     "name": "stdout",
     "output_type": "stream",
     "text": [
      "The Length of the List :  17\n",
      "Size of The List :  17\n",
      "0 1 2 3 4 5 6 7 8 9 10 11 12 13 14 15 16 \n",
      "List[ 0 ] :  11\n",
      "11 List[ 1 ] :  22\n",
      "22 List[ 2 ] :  33\n",
      "33 List[ 3 ] :  44\n",
      "44 List[ 4 ] :  55\n",
      "55 List[ 5 ] :  66\n",
      "66 List[ 6 ] :  77\n",
      "77 List[ 7 ] :  88\n",
      "88 List[ 8 ] :  99\n",
      "99 List[ 9 ] :  111\n",
      "111 List[ 10 ] :  222\n",
      "222 List[ 11 ] :  23\n",
      "23 List[ 12 ] :  23\n",
      "23 List[ 13 ] :  23\n",
      "23 List[ 14 ] :  23\n",
      "23 List[ 15 ] :  23\n",
      "23 List[ 16 ] :  23\n",
      "23 List[ 0 ] :  11\n",
      "List[ 1 ] :  22\n",
      "List[ 2 ] :  33\n"
     ]
    }
   ],
   "source": [
    "List = [11,22,33,44,55,66,77,88,99,111,222, 23, 23, 23, 23, 23, 23]\n",
    "print(\"The Length of the List : \", len(List))\n",
    "size = len(List)\n",
    "print(\"Size of The List : \", size)\n",
    "\n",
    "#Travers the List with the help of len() function\n",
    "for i in range(0,len(List)):\n",
    "    print(i, end=' ')\n",
    "    \n",
    "print()\n",
    "for i in range(0,len(List)):\n",
    "    print(\"List[\",i,\"] : \", List[i])\n",
    "    print(List[i], end=' ')\n",
    "\n",
    "counter = 0\n",
    "while(counter < 3):\n",
    "    print(\"List[\",counter,\"] : \", List[counter])\n",
    "    counter += 1\n"
   ]
  },
  {
   "cell_type": "code",
   "execution_count": 37,
   "metadata": {},
   "outputs": [
    {
     "name": "stdout",
     "output_type": "stream",
     "text": [
      "How Many Element in List ? 4\n",
      "Entering Elements in First List : \n",
      "Element[ 0 ] : \n",
      "1\n",
      "Element[ 1 ] : \n",
      "2\n",
      "Element[ 2 ] : \n",
      "3\n",
      "Element[ 3 ] : \n",
      "4\n",
      "Entering Elements in Second List : \n",
      "Element[ 0 ] : \n",
      "5\n",
      "Element[ 1 ] : \n",
      "6\n",
      "Element[ 2 ] : \n",
      "7\n",
      "Element[ 3 ] : \n",
      "8\n",
      "Elements Of List1 : 1 2 3 4 \n",
      "Elements Of List2 : 5 6 7 8 \n",
      "Elements Of List1 : 8 7 6 5 \n",
      "Elements Of List2 : 4 3 2 1 "
     ]
    }
   ],
   "source": [
    "num = int(input(\"How Many Element in List ? \"))\n",
    "List1 = [0]* num\n",
    "List2 = [0]* num\n",
    "\n",
    "print(\"Entering Elements in First List : \")\n",
    "for i in range(num):\n",
    "    print(\"Element[\",i,\"] : \")\n",
    "    List1[i] = int(input())\n",
    "\n",
    "print(\"Entering Elements in Second List : \")\n",
    "for i in range(num):\n",
    "    print(\"Element[\",i,\"] : \")\n",
    "    List2[i] = int(input())\n",
    "    \n",
    "print(\"Elements Of List1 : \", end='')\n",
    "for i in range(num):\n",
    "    print(List1[i], end=' ')\n",
    "\n",
    "print(\"\\nElements Of List2 : \", end='')\n",
    "for i in range(num):\n",
    "    print(List2[i], end=' ')\n",
    "\n",
    "temp = 0\n",
    "j = len(List2)-1\n",
    "\n",
    "for i in range(0,len(List1)):\n",
    "    temp = List1[i]\n",
    "    List1[i] = List2[j]\n",
    "    List2[j] = temp\n",
    "    j = j-1\n",
    "\n",
    "print(\"\\nElements Of List1 : \", end='')\n",
    "for i in range(num):\n",
    "    print(List1[i], end=' ')\n",
    "\n",
    "print(\"\\nElements Of List2 : \", end='')\n",
    "for i in range(num):\n",
    "    print(List2[i], end=' ')"
   ]
  },
  {
   "cell_type": "code",
   "execution_count": 14,
   "metadata": {},
   "outputs": [
    {
     "name": "stdout",
     "output_type": "stream",
     "text": [
      "myItems[ 0 ] :  ALI\n",
      "ALI\n",
      "myItems[ 1 ] :  WASEEM\n",
      "WASEEM\n",
      "myItems[ 2 ] :  SHANZAY\n",
      "SHANZAY\n",
      "myItems[ 3 ] :  ABEERA\n",
      "ABEERA\n",
      "myItems[ 4 ] :  89\n",
      "89\n",
      "myItems[ 5 ] :  90\n",
      "90\n",
      "myItems[ 6 ] :  57\n",
      "57\n",
      "myItems[ 7 ] :  78\n",
      "78\n"
     ]
    }
   ],
   "source": [
    "# Traversing a List with for each element in the list Similar to String\n",
    "#myItems = eval(input(\"Enter a List \"))\n",
    "List = ['ALI', 'WASEEM', 'SHANZAY', 'ABEERA', 89, 90, 57, 78]\n",
    "k = 0\n",
    "for item in List:\n",
    "    print(\"myItems[\",k,\"] : \", item)\n",
    "    print(item)\n",
    "    k = k+1\n"
   ]
  },
  {
   "cell_type": "code",
   "execution_count": 12,
   "metadata": {},
   "outputs": [
    {
     "name": "stdout",
     "output_type": "stream",
     "text": [
      "Enter Student Name to Search : HAKEEM\n",
      "HAKEEM  is not in the Class\n"
     ]
    }
   ],
   "source": [
    "# To check an Element in the List\n",
    "Class = ['ALI', 'WASEEM', 'SHANZAY', 'ABEERA']\n",
    "\n",
    "name = input(\"Enter Student Name to Search : \")\n",
    "found = False \n",
    "\n",
    "for item in Class:\n",
    "    if item == name:\n",
    "        found = True\n",
    "        break\n",
    "\n",
    "if found == False:\n",
    "    print(name, \" is not in the Class\")\n",
    "elif found == True:\n",
    "    print(name,\" is in the Class \")\n",
    "# Make it Dynamic with Live input Search"
   ]
  },
  {
   "cell_type": "code",
   "execution_count": 23,
   "metadata": {},
   "outputs": [
    {
     "name": "stdout",
     "output_type": "stream",
     "text": [
      "[23, 45, 67, 89, 33, 22, 66, 77, 55, 89, 23]\n",
      "Total Elements =  11\n",
      "First Element =  23\n",
      "Third Element = 67\n",
      "Elements [:3]=  [23, 45, 67]\n",
      "Elements [5:]=  [22, 66, 77, 55, 89, 23]\n",
      "Elements [4:9]=  [33, 22, 66, 77, 55]\n",
      "Elements [:-3]=  [23, 45, 67, 89, 33, 22, 66, 77]\n",
      "Elements [-4:]=  [77, 55, 89, 23]\n",
      "Elements [-7:-4]=  [33, 22, 66]\n"
     ]
    }
   ],
   "source": [
    "# Slicing of Lists\n",
    "SubMarks = [23,45,67,89,33,22,66,77,55,89,23]\n",
    "print(SubMarks)\n",
    "print(\"Total Elements = \", len(SubMarks))\n",
    "print(\"First Element = \", SubMarks[0])\n",
    "print(\"Third Element =\", SubMarks[2])\n",
    "\n",
    "# Geting a Slice from the List with Positive indexes\n",
    "print(\"Elements [:3]= \", SubMarks[:3])\n",
    "print(\"Elements [5:]= \", SubMarks[5:])\n",
    "print(\"Elements [4:9]= \", SubMarks[4:9])\n",
    "\n",
    "# Geting a Slice from the List with Negative indexes\n",
    "print(\"Elements [:-3]= \", SubMarks[:-3])\n",
    "print(\"Elements [-4:]= \", SubMarks[-4:])\n",
    "print(\"Elements [-7:-4]= \", SubMarks[-7:-4])\n",
    "\n"
   ]
  },
  {
   "cell_type": "code",
   "execution_count": null,
   "metadata": {},
   "outputs": [],
   "source": []
  }
 ],
 "metadata": {
  "kernelspec": {
   "display_name": "Python 3",
   "language": "python",
   "name": "python3"
  },
  "language_info": {
   "codemirror_mode": {
    "name": "ipython",
    "version": 3
   },
   "file_extension": ".py",
   "mimetype": "text/x-python",
   "name": "python",
   "nbconvert_exporter": "python",
   "pygments_lexer": "ipython3",
   "version": "3.6.5"
  }
 },
 "nbformat": 4,
 "nbformat_minor": 2
}
