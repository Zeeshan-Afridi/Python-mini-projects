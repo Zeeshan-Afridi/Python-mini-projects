{
 "cells": [
  {
   "cell_type": "code",
   "execution_count": 4,
   "metadata": {},
   "outputs": [
    {
     "name": "stdout",
     "output_type": "stream",
     "text": [
      "Enter LOWER Range for Numbers : 6\n",
      "Enter UPPER Range for Numbers : 12\n",
      "Enter LOWER Range for table : 5\n",
      "Enter UPPER Range for table : 9\n",
      "\n",
      "*********** TABLE OF  6  *************\n",
      "\n",
      "6  X  5  =  30\n",
      "6  X  6  =  36\n",
      "6  X  7  =  42\n",
      "6  X  8  =  48\n",
      "6  X  9  =  54\n",
      "\n",
      "*********** TABLE OF  7  *************\n",
      "\n",
      "7  X  5  =  35\n",
      "7  X  6  =  42\n",
      "7  X  7  =  49\n",
      "7  X  8  =  56\n",
      "7  X  9  =  63\n",
      "\n",
      "*********** TABLE OF  8  *************\n",
      "\n",
      "8  X  5  =  40\n",
      "8  X  6  =  48\n",
      "8  X  7  =  56\n",
      "8  X  8  =  64\n",
      "8  X  9  =  72\n",
      "\n",
      "*********** TABLE OF  9  *************\n",
      "\n",
      "9  X  5  =  45\n",
      "9  X  6  =  54\n",
      "9  X  7  =  63\n",
      "9  X  8  =  72\n",
      "9  X  9  =  81\n",
      "\n",
      "*********** TABLE OF  10  *************\n",
      "\n",
      "10  X  5  =  50\n",
      "10  X  6  =  60\n",
      "10  X  7  =  70\n",
      "10  X  8  =  80\n",
      "10  X  9  =  90\n",
      "\n",
      "*********** TABLE OF  11  *************\n",
      "\n",
      "11  X  5  =  55\n",
      "11  X  6  =  66\n",
      "11  X  7  =  77\n",
      "11  X  8  =  88\n",
      "11  X  9  =  99\n",
      "\n",
      "*********** TABLE OF  12  *************\n",
      "\n",
      "12  X  5  =  60\n",
      "12  X  6  =  72\n",
      "12  X  7  =  84\n",
      "12  X  8  =  96\n",
      "12  X  9  =  108\n"
     ]
    }
   ],
   "source": [
    "NLR = int(input(\"Enter LOWER Range for Numbers : \"))\n",
    "NUR = int(input(\"Enter UPPER Range for Numbers : \"))\n",
    "TLR = int(input(\"Enter LOWER Range for table : \"))\n",
    "TUR = int(input(\"Enter UPPER Range for table : \"))\n",
    "\n",
    "for N in range(NLR, NUR+1):\n",
    "    print(\"\\n*********** TABLE OF \",N,\" *************\\n\")\n",
    "    for T in range(TLR,TUR+1):\n",
    "        print(N,\" X \",T, \" = \", N*T)"
   ]
  },
  {
   "cell_type": "code",
   "execution_count": null,
   "metadata": {},
   "outputs": [],
   "source": []
  }
 ],
 "metadata": {
  "kernelspec": {
   "display_name": "Python 3",
   "language": "python",
   "name": "python3"
  },
  "language_info": {
   "codemirror_mode": {
    "name": "ipython",
    "version": 3
   },
   "file_extension": ".py",
   "mimetype": "text/x-python",
   "name": "python",
   "nbconvert_exporter": "python",
   "pygments_lexer": "ipython3",
   "version": "3.6.5"
  }
 },
 "nbformat": 4,
 "nbformat_minor": 2
}
